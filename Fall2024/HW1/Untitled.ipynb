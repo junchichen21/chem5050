{
 "cells": [
  {
   "cell_type": "markdown",
   "id": "6570c8ee-6f05-421b-aaa9-a7bb3b178360",
   "metadata": {},
   "source": [
    "Task a"
   ]
  },
  {
   "cell_type": "code",
   "execution_count": 16,
   "id": "6334d899-bbb7-481d-88f9-5f5e65016047",
   "metadata": {},
   "outputs": [],
   "source": [
    "reduced_h = 1       # atomic unit\n",
    "m = 1               # atomic unit\n",
    "L = 1.0             # atomic unit (Bohr radii)\n",
    "grid_points = 2000"
   ]
  },
  {
   "cell_type": "markdown",
   "id": "d197e3a4-6fca-41b7-b56d-1ad3ecf89f03",
   "metadata": {},
   "source": [
    "Task b"
   ]
  },
  {
   "cell_type": "code",
   "execution_count": 17,
   "id": "d25ec158-8b55-4b20-b74c-5e3eeb3f6993",
   "metadata": {},
   "outputs": [],
   "source": [
    "import numpy as np\n",
    "\n",
    "def construct_laplacian(size, delta_x):\n",
    "    identity_I = np.identity(size)\n",
    "    off_diagonal_values = np.ones(size - 1)\n",
    "    off_diagonal_I = np.diag(off_diag_values, k=-1) + np.diag(off_diag_values, k=1)\n",
    "\n",
    "    laplacian = 1/(delta_x**2)*(-2*identity_I + off_diagonal_I)\n",
    "\n",
    "    return laplacian"
   ]
  },
  {
   "cell_type": "code",
   "execution_count": 22,
   "id": "f42e40fb-5cf3-40ba-9a2f-75cf55dbd153",
   "metadata": {},
   "outputs": [
    {
     "name": "stdout",
     "output_type": "stream",
     "text": [
      "[[-2.  1.  0.  0.  0.]\n",
      " [ 1. -2.  1.  0.  0.]\n",
      " [ 0.  1. -2.  1.  0.]\n",
      " [ 0.  0.  1. -2.  1.]\n",
      " [ 0.  0.  0.  1. -2.]]\n"
     ]
    }
   ],
   "source": [
    "print(construct_laplacian(5, 1))"
   ]
  },
  {
   "cell_type": "markdown",
   "id": "0f84850f-8668-4b22-b0ab-11ff63211b1a",
   "metadata": {},
   "source": [
    "Task c"
   ]
  },
  {
   "cell_type": "code",
   "execution_count": 19,
   "id": "14e2585a-d5dd-4bcb-a22c-2d0f8f12a7e6",
   "metadata": {},
   "outputs": [],
   "source": [
    "laplacian = construct_laplacian(5, 1)\n",
    "H = -(reduced_h**2)/(2*m) * laplacian"
   ]
  },
  {
   "cell_type": "code",
   "execution_count": 23,
   "id": "05f21a3e-c3e8-4a84-892c-e84cba5911dd",
   "metadata": {},
   "outputs": [
    {
     "name": "stdout",
     "output_type": "stream",
     "text": [
      "[1.8660254 1.5       1.        0.1339746 0.5      ]\n",
      "[[ 2.88675135e-01  5.00000000e-01  5.77350269e-01  2.88675135e-01\n",
      "  -5.00000000e-01]\n",
      " [-5.00000000e-01 -5.00000000e-01 -4.16874298e-16  5.00000000e-01\n",
      "  -5.00000000e-01]\n",
      " [ 5.77350269e-01  9.38463736e-16 -5.77350269e-01  5.77350269e-01\n",
      "   8.73792257e-17]\n",
      " [-5.00000000e-01  5.00000000e-01  1.12283347e-16  5.00000000e-01\n",
      "   5.00000000e-01]\n",
      " [ 2.88675135e-01 -5.00000000e-01  5.77350269e-01  2.88675135e-01\n",
      "   5.00000000e-01]]\n"
     ]
    }
   ],
   "source": [
    "eigenvalues, eigenvectors = np.linalg.eig(H)\n",
    "print(eigenvalues)\n",
    "print(eigenvectors)"
   ]
  },
  {
   "cell_type": "code",
   "execution_count": null,
   "id": "56416077-29d7-41d5-ae00-ee691dab5b60",
   "metadata": {},
   "outputs": [],
   "source": []
  }
 ],
 "metadata": {
  "kernelspec": {
   "display_name": "Python 3 (ipykernel)",
   "language": "python",
   "name": "python3"
  },
  "language_info": {
   "codemirror_mode": {
    "name": "ipython",
    "version": 3
   },
   "file_extension": ".py",
   "mimetype": "text/x-python",
   "name": "python",
   "nbconvert_exporter": "python",
   "pygments_lexer": "ipython3",
   "version": "3.12.2"
  }
 },
 "nbformat": 4,
 "nbformat_minor": 5
}
