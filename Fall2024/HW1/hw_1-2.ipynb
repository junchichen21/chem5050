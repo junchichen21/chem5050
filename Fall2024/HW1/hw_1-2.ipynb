{
 "cells": [
  {
   "cell_type": "markdown",
   "id": "461eee72-1ca6-4ab1-bb2f-a0fa8f787575",
   "metadata": {},
   "source": [
    "Part 1"
   ]
  },
  {
   "cell_type": "code",
   "execution_count": 1,
   "id": "a8fb6210-2689-4649-b517-fb59d30cd775",
   "metadata": {},
   "outputs": [],
   "source": [
    "H2 = {\n",
    "    \"H1\": [0.0000, 0.0000, 0.0000],\n",
    "    \"H2\": [0.0000, 0.0000, 0.7414]\n",
    "}\n",
    "\n",
    "H2O = {\n",
    "    \"O1\": [0.0000, 0.0000, 0.1173],\n",
    "    \"H1\": [0.0000, 0.7572, -0.4692],\n",
    "    \"H2\": [0.0000, -0.7572,-0.4692]\n",
    "}\n",
    "\n",
    "C6H6_benzene = {\n",
    "    \"C1\": [0.0000, 1.3970, 0.0000],\n",
    "    \"C2\": [1.2098, 0.6985, 0.0000],\n",
    "    \"C3\": [1.2098, -0.6985, 0.0000],\n",
    "    \"C4\": [0.0000, -1.3970, 0.0000],\n",
    "    \"C5\": [-1.2098, -0.6985, 0.0000],\n",
    "    \"C6\": [-1.2098, 0.6985, 0.0000],\n",
    "    \"H7\": [0.0000, 2.4810, 0.0000],\n",
    "    \"H8\": [2.1486, 1.2405, 0.0000],\n",
    "    \"H9\": [2.1486, -1.2405, 0.0000],\n",
    "    \"H10\": [0.0000, -2.4810, 0.0000],\n",
    "    \"H11\": [-2.1486, -1.2405, 0.0000],\n",
    "    \"H12\": [-2.1486, 1.2405, 0.0000]\n",
    "} "
   ]
  },
  {
   "cell_type": "code",
   "execution_count": 2,
   "id": "a0026770-c52a-411d-9754-c778d33496ed",
   "metadata": {},
   "outputs": [
    {
     "name": "stdout",
     "output_type": "stream",
     "text": [
      "{'H1': [0.0, 0.0, 0.0], 'H2': [0.0, 0.0, 0.7414]}\n",
      "{'O1': [0.0, 0.0, 0.1173], 'H1': [0.0, 0.7572, -0.4692], 'H2': [0.0, -0.7572, -0.4692]}\n",
      "{'C1': [0.0, 1.397, 0.0], 'C2': [1.2098, 0.6985, 0.0], 'C3': [1.2098, -0.6985, 0.0], 'C4': [0.0, -1.397, 0.0], 'C5': [-1.2098, -0.6985, 0.0], 'C6': [-1.2098, 0.6985, 0.0], 'H7': [0.0, 2.481, 0.0], 'H8': [2.1486, 1.2405, 0.0], 'H9': [2.1486, -1.2405, 0.0], 'H10': [0.0, -2.481, 0.0], 'H11': [-2.1486, -1.2405, 0.0], 'H12': [-2.1486, 1.2405, 0.0]}\n"
     ]
    }
   ],
   "source": [
    "print(H2)\n",
    "print(H2O)\n",
    "print(C6H6_benzene)"
   ]
  },
  {
   "cell_type": "markdown",
   "id": "481653dc-3ab1-45bd-86b1-e58ae90cdf2c",
   "metadata": {},
   "source": [
    "part 2"
   ]
  },
  {
   "cell_type": "code",
   "execution_count": 3,
   "id": "8cc6a183-9b6a-4cae-b0d8-d08fe5637b17",
   "metadata": {},
   "outputs": [],
   "source": [
    "import math\n",
    "\n",
    "def compute_bond_length(coord1, coord2):\n",
    "    square_sum = 0\n",
    "    \n",
    "    for i in range(len(coord1)):\n",
    "        square_sum += pow(coord2[i] - coord1[i], 2)\n",
    "\n",
    "    d = math.sqrt(square_sum)\n",
    "\n",
    "    if d >= 2:\n",
    "        print(f\"Warning: the distance of these two atoms ({d} Angstrom) is too larger!\")\n",
    "    \n",
    "    return d\n"
   ]
  },
  {
   "cell_type": "code",
   "execution_count": 4,
   "id": "47792f83-c72b-4819-8969-15c0034f2e98",
   "metadata": {},
   "outputs": [
    {
     "name": "stdout",
     "output_type": "stream",
     "text": [
      "Warning: the distance of these two atoms (5.0 Angstrom) is too larger!\n",
      "5.0\n"
     ]
    }
   ],
   "source": [
    "d = compute_bond_length([0.0000, 0.0000, 0.0000], [0.0000, 0.0000, 5.0000])\n",
    "print(d)"
   ]
  },
  {
   "cell_type": "markdown",
   "id": "19839e7d-e3b7-4d87-ba5b-c4f58a91184e",
   "metadata": {},
   "source": [
    "part 3"
   ]
  },
  {
   "cell_type": "code",
   "execution_count": 30,
   "id": "84ce2f15-103e-4f01-aa0a-b0d906e4d980",
   "metadata": {},
   "outputs": [],
   "source": [
    "import numpy as np\n",
    "import math\n",
    "\n",
    "def compute_bond_angle(coord1, coord2, coord3):\n",
    "    \n",
    "    coord1_ar = np.array(coord1)\n",
    "    coord2_ar = np.array(coord2)\n",
    "    coord3_ar = np.array(coord3)\n",
    "\n",
    "    vector_21 = coord1_ar - coord2_ar\n",
    "    vector_23 = coord3_ar - coord2_ar\n",
    "\n",
    "    dis_12 = compute_bond_length(coord1, coord2)\n",
    "    dis_23 = compute_bond_length(coord2, coord3)\n",
    "\n",
    "    cosn_bond_angle = np.dot(vector_21, vector_23)/(dis_12 * dis_23)\n",
    "\n",
    "    bond_angle = math.degrees(math.acos(cosn_bond_angle))\n",
    "\n",
    "    if bond_angle > 90:\n",
    "        print(f\"The bond angle, which is {bond_angle} degree, is obtuse.\")\n",
    "    elif cosn_bond_angle == 90:\n",
    "        print(f\"The bond angle, which is {bond_angle} degree, is right.\")\n",
    "    else:\n",
    "        print(f\"The bond angle, which is {bond_angle} degree, is acute.\")\n",
    "    \n",
    "    # if 0 < cosn_bond_angle < 1:\n",
    "    #     print(f\"The bond angle is acute, whose cos() is {cosn_bond_angle}.\")\n",
    "    # elif cosn_bond_angle == 0:\n",
    "    #     print(f\"The bond angle is right, whose cos() is {cosn_bond_angle}.\")\n",
    "    # else:\n",
    "    #     print(f\"The bond angle is obtuse, whose cos() is {cosn_bond_angle}.\")\n",
    "\n",
    "    return bond_angle"
   ]
  },
  {
   "cell_type": "code",
   "execution_count": 31,
   "id": "a1513066-d2c0-4d52-8f8e-8729cbd3aa87",
   "metadata": {},
   "outputs": [
    {
     "name": "stdout",
     "output_type": "stream",
     "text": [
      "The bond angle, which is 120.00076879612564 degree, is obtuse.\n"
     ]
    },
    {
     "data": {
      "text/plain": [
       "120.00076879612564"
      ]
     },
     "execution_count": 31,
     "metadata": {},
     "output_type": "execute_result"
    }
   ],
   "source": [
    "compute_bond_angle(C6H6_benzene[\"C1\"], C6H6_benzene[\"C2\"], C6H6_benzene[\"C3\"])"
   ]
  },
  {
   "cell_type": "markdown",
   "id": "c8e7bdd8-62c7-4861-9662-b8a292015d17",
   "metadata": {},
   "source": [
    "part 4"
   ]
  },
  {
   "cell_type": "code",
   "execution_count": 19,
   "id": "4d855e38-e4de-48dc-b0cd-36606270f4b2",
   "metadata": {},
   "outputs": [],
   "source": [
    "def calculate_all_bond_lengths(molecule):\n",
    "    d_list = []\n",
    "    for atom_1, coord_1 in molecule.items():\n",
    "        for atom_2, coord_2 in molecule.items():\n",
    "            if atom_2 > atom_1:\n",
    "                d = compute_bond_length(coord_1, coord_2)\n",
    "                if d < 2:\n",
    "                    d_list.append(d)\n",
    "\n",
    "    return d_list"
   ]
  },
  {
   "cell_type": "code",
   "execution_count": 20,
   "id": "ab11f510-0e98-47c3-96b0-c001f0e66181",
   "metadata": {
    "collapsed": true,
    "jupyter": {
     "outputs_hidden": true
    }
   },
   "outputs": [
    {
     "name": "stdout",
     "output_type": "stream",
     "text": [
      "Warning: the distance of these two atoms (2.4196562338481056 Angstrom) is too larger!\n",
      "Warning: the distance of these two atoms (2.794 Angstrom) is too larger!\n",
      "Warning: the distance of these two atoms (2.4196562338481056 Angstrom) is too larger!\n",
      "Warning: the distance of these two atoms (2.1542920438046465 Angstrom) is too larger!\n",
      "Warning: the distance of these two atoms (3.4018947970212134 Angstrom) is too larger!\n",
      "Warning: the distance of these two atoms (3.878 Angstrom) is too larger!\n",
      "Warning: the distance of these two atoms (3.4018947970212134 Angstrom) is too larger!\n",
      "Warning: the distance of these two atoms (2.1542920438046465 Angstrom) is too larger!\n",
      "Warning: the distance of these two atoms (2.4196562338481056 Angstrom) is too larger!\n",
      "Warning: the distance of these two atoms (2.7939350672483427 Angstrom) is too larger!\n",
      "Warning: the distance of these two atoms (2.4196 Angstrom) is too larger!\n",
      "Warning: the distance of these two atoms (2.1542799934084704 Angstrom) is too larger!\n",
      "Warning: the distance of these two atoms (2.154313449802512 Angstrom) is too larger!\n",
      "Warning: the distance of these two atoms (3.401887165971264 Angstrom) is too larger!\n",
      "Warning: the distance of these two atoms (3.8779597161394035 Angstrom) is too larger!\n",
      "Warning: the distance of these two atoms (3.401854576550855 Angstrom) is too larger!\n",
      "Warning: the distance of these two atoms (2.4196 Angstrom) is too larger!\n",
      "Warning: the distance of these two atoms (2.7939350672483427 Angstrom) is too larger!\n",
      "Warning: the distance of these two atoms (3.401887165971264 Angstrom) is too larger!\n",
      "Warning: the distance of these two atoms (2.154313449802512 Angstrom) is too larger!\n",
      "Warning: the distance of these two atoms (2.1542799934084704 Angstrom) is too larger!\n",
      "Warning: the distance of these two atoms (3.401854576550855 Angstrom) is too larger!\n",
      "Warning: the distance of these two atoms (3.8779597161394035 Angstrom) is too larger!\n",
      "Warning: the distance of these two atoms (2.4196562338481056 Angstrom) is too larger!\n",
      "Warning: the distance of these two atoms (3.878 Angstrom) is too larger!\n",
      "Warning: the distance of these two atoms (3.4018947970212134 Angstrom) is too larger!\n",
      "Warning: the distance of these two atoms (2.1542920438046465 Angstrom) is too larger!\n",
      "Warning: the distance of these two atoms (2.1542920438046465 Angstrom) is too larger!\n",
      "Warning: the distance of these two atoms (3.4018947970212134 Angstrom) is too larger!\n",
      "Warning: the distance of these two atoms (3.401887165971264 Angstrom) is too larger!\n",
      "Warning: the distance of these two atoms (3.8779597161394035 Angstrom) is too larger!\n",
      "Warning: the distance of these two atoms (3.401854576550855 Angstrom) is too larger!\n",
      "Warning: the distance of these two atoms (2.1542799934084704 Angstrom) is too larger!\n",
      "Warning: the distance of these two atoms (2.154313449802512 Angstrom) is too larger!\n",
      "Warning: the distance of these two atoms (2.1542799934084704 Angstrom) is too larger!\n",
      "Warning: the distance of these two atoms (3.401854576550855 Angstrom) is too larger!\n",
      "Warning: the distance of these two atoms (3.8779597161394035 Angstrom) is too larger!\n",
      "Warning: the distance of these two atoms (3.401887165971264 Angstrom) is too larger!\n",
      "Warning: the distance of these two atoms (2.154313449802512 Angstrom) is too larger!\n",
      "Warning: the distance of these two atoms (2.4809921825753505 Angstrom) is too larger!\n",
      "Warning: the distance of these two atoms (4.297213540190899 Angstrom) is too larger!\n",
      "Warning: the distance of these two atoms (2.481 Angstrom) is too larger!\n",
      "Warning: the distance of these two atoms (4.962 Angstrom) is too larger!\n",
      "Warning: the distance of these two atoms (4.297213540190899 Angstrom) is too larger!\n",
      "Warning: the distance of these two atoms (2.4809921825753505 Angstrom) is too larger!\n",
      "Warning: the distance of these two atoms (2.4809921825753505 Angstrom) is too larger!\n",
      "Warning: the distance of these two atoms (4.297213540190899 Angstrom) is too larger!\n",
      "Warning: the distance of these two atoms (4.297213540190899 Angstrom) is too larger!\n",
      "Warning: the distance of these two atoms (4.961984365150701 Angstrom) is too larger!\n",
      "Warning: the distance of these two atoms (4.2972 Angstrom) is too larger!\n",
      "Warning: the distance of these two atoms (2.481 Angstrom) is too larger!\n",
      "Warning: the distance of these two atoms (2.4809921825753505 Angstrom) is too larger!\n",
      "Warning: the distance of these two atoms (4.2972 Angstrom) is too larger!\n",
      "Warning: the distance of these two atoms (4.961984365150701 Angstrom) is too larger!\n",
      "[1.3969675336241714, 1.3969675336241714, 1.0839999999999999, 1.397, 1.0840246491662446, 1.3969675336241714, 1.0840246491662446, 1.3969675336241714, 1.0839999999999999, 1.397, 1.0840246491662446, 1.0840246491662446]\n"
     ]
    }
   ],
   "source": [
    "print(calculate_all_bond_lengths(C6H6_benzene))"
   ]
  },
  {
   "cell_type": "code",
   "execution_count": null,
   "id": "aa364948-0ee5-4cbc-bee8-d8f334f65e74",
   "metadata": {},
   "outputs": [],
   "source": []
  }
 ],
 "metadata": {
  "kernelspec": {
   "display_name": "Python 3 (ipykernel)",
   "language": "python",
   "name": "python3"
  },
  "language_info": {
   "codemirror_mode": {
    "name": "ipython",
    "version": 3
   },
   "file_extension": ".py",
   "mimetype": "text/x-python",
   "name": "python",
   "nbconvert_exporter": "python",
   "pygments_lexer": "ipython3",
   "version": "3.12.2"
  }
 },
 "nbformat": 4,
 "nbformat_minor": 5
}
