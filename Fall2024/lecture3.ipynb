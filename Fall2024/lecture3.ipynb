{
 "cells": [
  {
   "cell_type": "markdown",
   "id": "d41a210b-2661-46f9-b04c-773f0d5203a7",
   "metadata": {},
   "source": [
    "Conditional Statements"
   ]
  },
  {
   "cell_type": "code",
   "execution_count": 2,
   "id": "e9d851ef-c252-44f3-a495-6eeefe8ca255",
   "metadata": {},
   "outputs": [
    {
     "name": "stdout",
     "output_type": "stream",
     "text": [
      "x is larger than 5.\n"
     ]
    }
   ],
   "source": [
    "x = 6\n",
    "if x > 5:\n",
    "    print(f\"x is larger than 5.\")"
   ]
  },
  {
   "cell_type": "code",
   "execution_count": 3,
   "id": "a549e0a2-125f-4318-ac35-349c8b83d2e1",
   "metadata": {},
   "outputs": [],
   "source": [
    "x = 3"
   ]
  },
  {
   "cell_type": "code",
   "execution_count": 5,
   "id": "f3225517-53d6-49b9-bdce-42b192248bf9",
   "metadata": {},
   "outputs": [
    {
     "name": "stdout",
     "output_type": "stream",
     "text": [
      "x is smaller than 5.\n"
     ]
    }
   ],
   "source": [
    "if x > 5:\n",
    "    print(f\"x is larger than 5.\")\n",
    "elif x == 5:\n",
    "    print(f\"x is equal to 5.\")\n",
    "\n",
    "else:\n",
    "    print(f\"x is smaller than 5.\")"
   ]
  },
  {
   "cell_type": "markdown",
   "id": "734e0664-22ca-44de-b509-7842d2219ce4",
   "metadata": {},
   "source": [
    "Loops"
   ]
  },
  {
   "cell_type": "code",
   "execution_count": 7,
   "id": "5b9a2367-56d5-4668-a4f8-d6afd738d887",
   "metadata": {},
   "outputs": [],
   "source": [
    "# {} is brackets\n",
    "# [] is parameters"
   ]
  },
  {
   "cell_type": "code",
   "execution_count": 9,
   "id": "39b256c7-3144-428c-8e70-4d75833baa38",
   "metadata": {},
   "outputs": [],
   "source": [
    "import numpy as np"
   ]
  },
  {
   "cell_type": "code",
   "execution_count": 10,
   "id": "8959e52d-afbc-4027-acd2-b0d854e69d2a",
   "metadata": {},
   "outputs": [
    {
     "name": "stdout",
     "output_type": "stream",
     "text": [
      "1\n",
      "2\n",
      "3\n",
      "4\n",
      "5\n"
     ]
    }
   ],
   "source": [
    "arr = np.array([1, 2, 3, 4, 5])\n",
    "\n",
    "for element in arr:\n",
    "    print(element)"
   ]
  },
  {
   "cell_type": "code",
   "execution_count": 19,
   "id": "63052f40-2d57-40f6-b105-8de842f7a4d4",
   "metadata": {},
   "outputs": [
    {
     "name": "stdout",
     "output_type": "stream",
     "text": [
      "0\n",
      "30\n",
      "1\n",
      "25\n",
      "2\n",
      "35\n"
     ]
    },
    {
     "name": "stderr",
     "output_type": "stream",
     "text": [
      "/var/folders/13/4k3sy26x7w3d_ccm62j1q4wc0000gn/T/ipykernel_68599/2145409937.py:8: FutureWarning: Series.__getitem__ treating keys as positions is deprecated. In a future version, integer keys will always be treated as labels (consistent with DataFrame behavior). To access a value by position, use `ser.iloc[pos]`\n",
      "  print(row[1])\n"
     ]
    }
   ],
   "source": [
    "import pandas as pd\n",
    "\n",
    "data = {\"name\": [\"Alice\", \"Bob\", \"Charlie\"], \"age\": [30, 25, 35]}\n",
    "df = pd.DataFrame(data)\n",
    "\n",
    "for index, row in df.iterrows():\n",
    "    print(index)\n",
    "    print(row[1])"
   ]
  },
  {
   "cell_type": "code",
   "execution_count": null,
   "id": "cfa0fd1c-bac5-4c32-96f8-4d9d9fb97b6a",
   "metadata": {},
   "outputs": [],
   "source": []
  }
 ],
 "metadata": {
  "kernelspec": {
   "display_name": "Python 3 (ipykernel)",
   "language": "python",
   "name": "python3"
  },
  "language_info": {
   "codemirror_mode": {
    "name": "ipython",
    "version": 3
   },
   "file_extension": ".py",
   "mimetype": "text/x-python",
   "name": "python",
   "nbconvert_exporter": "python",
   "pygments_lexer": "ipython3",
   "version": "3.12.2"
  }
 },
 "nbformat": 4,
 "nbformat_minor": 5
}
